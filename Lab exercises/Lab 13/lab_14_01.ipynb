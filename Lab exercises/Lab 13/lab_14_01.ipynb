{
 "cells": [
  {
   "cell_type": "markdown",
   "metadata": {},
   "source": [
    "#### Revision of filing operations"
   ]
  },
  {
   "cell_type": "code",
   "execution_count": null,
   "metadata": {},
   "outputs": [],
   "source": [
    "name = input(\"Enter your name: \")\n",
    "roll_no = input(\"Enter you roll #: \")\n",
    "year = input(\"Enter your year: (FE, SE, TE, BE) \")\n",
    "semester = input(\"Enter semester: (Fall, Spring) \")\n",
    "\n",
    "with open(\"./lab14.txt\", \"w\") as file_write:\n",
    "    file_write.write(f\"{name} is a student at the Department of Computer Information & Systems Engineering.\\n\")\n",
    "    file_write.write(f\"His roll no. is {roll_no}.\\n\")\n",
    "    file_write.write(f\"He is the {semester} semester of his {year} year.\")\n",
    "    print(\"File successfully written!\")\n",
    "    \n",
    "print(\"\\nFile contents:\")\n",
    "with open(\"./lab14.txt\", \"r\") as file_read:\n",
    "    for line in file_read:\n",
    "        print(line, end=\"\")"
   ]
  },
  {
   "cell_type": "code",
   "execution_count": 42,
   "metadata": {},
   "outputs": [
    {
     "name": "stdout",
     "output_type": "stream",
     "text": [
      "This is my fact file.\n",
      "Fact 1: Sky is not blue\n",
      "Fact 2: Moon has no light of itself\n",
      "Fact 3: Jupiter has 11 moons\n",
      "Fact 4: I don't know\n",
      "Fact 5: Sun is not orange, it's white!\n"
     ]
    }
   ],
   "source": [
    "with open(\"factfile.txt\", \"r\") as file:\n",
    "    content = file.read()\n",
    "    print(content)"
   ]
  },
  {
   "cell_type": "code",
   "execution_count": 40,
   "metadata": {},
   "outputs": [],
   "source": [
    "with open(\"factfile.txt\", \"a\") as file:\n",
    "    file.write(\"\\nFact 5: Sun is not orange, it's white!\")"
   ]
  },
  {
   "cell_type": "code",
   "execution_count": 48,
   "metadata": {},
   "outputs": [
    {
     "name": "stdout",
     "output_type": "stream",
     "text": [
      "This is my fact file.\n",
      "\n"
     ]
    }
   ],
   "source": [
    "with open(\"factfile.txt\", \"r+\") as file:\n",
    "    content = file.readline()\n",
    "    print(content)"
   ]
  },
  {
   "cell_type": "code",
   "execution_count": 54,
   "metadata": {},
   "outputs": [
    {
     "name": "stdout",
     "output_type": "stream",
     "text": [
      "This is my fact file.\n",
      "Fact 1: Sky is not blue\n",
      "Fact 2: Moon has no light of itself\n",
      "Fact 3: Jupiter has 11 moons\n",
      "Fact 4: I don't know\n",
      "Fact 5: Sun is not orange, it's white!\n"
     ]
    }
   ],
   "source": [
    "with open(\"Factfile.txt\", \"r+\") as file:\n",
    "    content = file.readlines()\n",
    "\n",
    "for line in content:\n",
    "    print(line.strip())"
   ]
  },
  {
   "cell_type": "code",
   "execution_count": 59,
   "metadata": {},
   "outputs": [
    {
     "name": "stdout",
     "output_type": "stream",
     "text": [
      "File created!\n",
      "\n"
     ]
    }
   ],
   "source": [
    "try:\n",
    "    with open(\"abc.txt\", \"r\") as file:\n",
    "        content = file.read()\n",
    "        print(content)\n",
    "except FileNotFoundError:\n",
    "    print(\"File does not exist! File with the name is created now.\")\n",
    "    with open(\"abc.txt\", \"w\") as file:\n",
    "        file.write(\"File created!\\n\")"
   ]
  },
  {
   "cell_type": "code",
   "execution_count": null,
   "metadata": {},
   "outputs": [],
   "source": [
    "content = list()\n",
    "\n",
    "with open(\"file1.txt\", \"r\") as f1, open(\"file2.txt\", \"r\") as f2:\n",
    "    for line in f1:\n",
    "        print(line.strip())\n",
    "        content.append(line)\n",
    "    for line in f2:\n",
    "        print(line.strip())\n",
    "        content.append(line)\n",
    "\n",
    "while True:\n",
    "    edit = input(\"Write whatever you want to add to the content above: (Press ENTER if not interested)\\n>>> \")\n",
    "    if len(edit) == 0:\n",
    "        break\n",
    "    content.append(edit)\n",
    "\n",
    "with open(\"file3.txt\", \"w\") as f:\n",
    "    for line in content:\n",
    "        f.write(line)\n",
    "        f.write(\"\\n\")"
   ]
  },
  {
   "cell_type": "code",
   "execution_count": 66,
   "metadata": {},
   "outputs": [
    {
     "name": "stdout",
     "output_type": "stream",
     "text": [
      "Enter data to be written to file1:\n",
      ">>> Some text for file 1.\n",
      "Enter data to be written to file2:\n",
      ">>> Different text for file 2.\n"
     ]
    },
    {
     "ename": "ValueError",
     "evalue": "I/O operation on closed file.",
     "output_type": "error",
     "traceback": [
      "\u001b[1;31m---------------------------------------------------------------------------\u001b[0m",
      "\u001b[1;31mValueError\u001b[0m                                Traceback (most recent call last)",
      "\u001b[1;32m<ipython-input-66-72419a5e33cf>\u001b[0m in \u001b[0;36m<module>\u001b[1;34m\u001b[0m\n\u001b[0;32m      6\u001b[0m     \u001b[0mcontent\u001b[0m\u001b[1;33m.\u001b[0m\u001b[0mappend\u001b[0m\u001b[1;33m(\u001b[0m\u001b[0mdata\u001b[0m\u001b[1;33m)\u001b[0m\u001b[1;33m\u001b[0m\u001b[1;33m\u001b[0m\u001b[0m\n\u001b[0;32m      7\u001b[0m     \u001b[0mdata\u001b[0m \u001b[1;33m=\u001b[0m \u001b[0minput\u001b[0m\u001b[1;33m(\u001b[0m\u001b[1;34m\"Enter data to be written to file2:\\n>>> \"\u001b[0m\u001b[1;33m)\u001b[0m\u001b[1;33m\u001b[0m\u001b[1;33m\u001b[0m\u001b[0m\n\u001b[1;32m----> 8\u001b[1;33m     \u001b[0mf2\u001b[0m\u001b[1;33m.\u001b[0m\u001b[0mwrite\u001b[0m\u001b[1;33m(\u001b[0m\u001b[0mdata\u001b[0m\u001b[1;33m)\u001b[0m\u001b[1;33m\u001b[0m\u001b[1;33m\u001b[0m\u001b[0m\n\u001b[0m\u001b[0;32m      9\u001b[0m     \u001b[0mcontent\u001b[0m\u001b[1;33m.\u001b[0m\u001b[0mappend\u001b[0m\u001b[1;33m(\u001b[0m\u001b[0mdata\u001b[0m\u001b[1;33m)\u001b[0m\u001b[1;33m\u001b[0m\u001b[1;33m\u001b[0m\u001b[0m\n\u001b[0;32m     10\u001b[0m \u001b[1;33m\u001b[0m\u001b[0m\n",
      "\u001b[1;31mValueError\u001b[0m: I/O operation on closed file."
     ]
    }
   ],
   "source": [
    "content = list()\n",
    "\n",
    "with open(\"file1.txt\", \"w\") as f1, open(\"file2.txt\", \"w\"):\n",
    "    data = input(\"Enter data to be written to file1:\\n>>> \")\n",
    "    f1.write(data)\n",
    "    content.append(data)\n",
    "    data = input(\"Enter data to be written to file2:\\n>>> \")\n",
    "    f2.write(data)\n",
    "    content.append(data)\n",
    "\n",
    "with open(\"file3.txt\", \"w\") as f:\n",
    "    for line in content:\n",
    "        f.write(line)\n",
    "        f.write(\"\\n\")"
   ]
  },
  {
   "cell_type": "markdown",
   "metadata": {},
   "source": [
    "#### Revision of recursive functions"
   ]
  },
  {
   "cell_type": "code",
   "execution_count": 19,
   "metadata": {},
   "outputs": [
    {
     "name": "stdout",
     "output_type": "stream",
     "text": [
      "Enter no. of terms of Fibonacci series required: 8\n",
      "Fibonacci: 0 1 1 2 3 5 8 13 \n"
     ]
    }
   ],
   "source": [
    "def fibonacci(prev, curr, terms):\n",
    "    if terms == 1:\n",
    "        return f\"\"\n",
    "    else:\n",
    "        if prev != 0:\n",
    "            return f\"{curr} \" + fibonacci(curr, (prev + curr), terms - 1)\n",
    "        else:\n",
    "            return f\"0 {curr} \" + fibonacci(curr, (prev + curr), terms - 1)\n",
    "\n",
    "terms = int(input(\"Enter no. of terms of Fibonacci series required: \"))\n",
    "print(\"Fibonacci:\", fibonacci(0, 1, terms))"
   ]
  },
  {
   "cell_type": "code",
   "execution_count": 10,
   "metadata": {},
   "outputs": [
    {
     "name": "stdout",
     "output_type": "stream",
     "text": [
      "Recursive: 28\n",
      "Built-in: 28\n"
     ]
    }
   ],
   "source": [
    "def list_sum(l):\n",
    "    if len(l) == 0:\n",
    "        return 0\n",
    "    else:\n",
    "        return l.pop() + list_sum(l)\n",
    "\n",
    "l = [0, 1, 2, 3, 4, 5, 6, 7]\n",
    "print(\"Recursive:\", list_sum([i for i in l]))\n",
    "print(\"Built-in:\", sum(l))"
   ]
  },
  {
   "cell_type": "code",
   "execution_count": 35,
   "metadata": {},
   "outputs": [
    {
     "name": "stdout",
     "output_type": "stream",
     "text": [
      "Enter n to get F(n): 7\n",
      "13\n"
     ]
    }
   ],
   "source": [
    "def fib_r(n, prev=0, curr=0):\n",
    "    if n == 0:\n",
    "        return 0\n",
    "    elif n == 1:\n",
    "        return 1\n",
    "    else:\n",
    "        return fib_r(n - 1) + fib_r(n - 2)\n",
    "\n",
    "num = int(input(\"Enter n to get F(n): \"))\n",
    "result = fib_r(num)\n",
    "print(result)"
   ]
  },
  {
   "cell_type": "code",
   "execution_count": null,
   "metadata": {},
   "outputs": [],
   "source": []
  },
  {
   "cell_type": "code",
   "execution_count": null,
   "metadata": {},
   "outputs": [],
   "source": []
  }
 ],
 "metadata": {
  "kernelspec": {
   "display_name": "Python 3",
   "language": "python",
   "name": "python3"
  },
  "language_info": {
   "codemirror_mode": {
    "name": "ipython",
    "version": 3
   },
   "file_extension": ".py",
   "mimetype": "text/x-python",
   "name": "python",
   "nbconvert_exporter": "python",
   "pygments_lexer": "ipython3",
   "version": "3.8.5"
  }
 },
 "nbformat": 4,
 "nbformat_minor": 4
}
