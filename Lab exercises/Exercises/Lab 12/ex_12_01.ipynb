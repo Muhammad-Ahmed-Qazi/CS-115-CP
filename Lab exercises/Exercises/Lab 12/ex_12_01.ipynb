{
 "cells": [
  {
   "cell_type": "code",
   "execution_count": 1,
   "id": "adfb0bba",
   "metadata": {},
   "outputs": [
    {
     "name": "stdout",
     "output_type": "stream",
     "text": [
      "[(1, 2, 10), (4, 5, 10), (7, 8, 10)]\n"
     ]
    }
   ],
   "source": [
    "# List of tuples\n",
    "tuples = [(1, 2, 3), (4, 5, 6), (7, 8, 9)]\n",
    "\n",
    "# Replace last element of all tuples with 10\n",
    "tuples = [t[:-1] + (10,) for t in tuples]\n",
    "\n",
    "# Display the updated list of tuples\n",
    "print(tuples)"
   ]
  },
  {
   "cell_type": "code",
   "execution_count": 2,
   "id": "7eaed484",
   "metadata": {},
   "outputs": [
    {
     "name": "stdout",
     "output_type": "stream",
     "text": [
      "Enter a tuple: (1, 2, 3, 4, 5, 6)\n",
      "(6, 5, 4, 3, 2, 1)\n"
     ]
    }
   ],
   "source": [
    "# Input tuple from user\n",
    "tuple1 = eval(input(\"Enter a tuple: \"))\n",
    "\n",
    "# Sort the tuple in reverse order\n",
    "tuple1 = tuple1[::-1]\n",
    "\n",
    "# Display the sorted tuple\n",
    "print(tuple1)"
   ]
  },
  {
   "cell_type": "code",
   "execution_count": null,
   "id": "f198c61a",
   "metadata": {},
   "outputs": [],
   "source": []
  }
 ],
 "metadata": {
  "kernelspec": {
   "display_name": "Python 3 (ipykernel)",
   "language": "python",
   "name": "python3"
  },
  "language_info": {
   "codemirror_mode": {
    "name": "ipython",
    "version": 3
   },
   "file_extension": ".py",
   "mimetype": "text/x-python",
   "name": "python",
   "nbconvert_exporter": "python",
   "pygments_lexer": "ipython3",
   "version": "3.12.3"
  }
 },
 "nbformat": 4,
 "nbformat_minor": 5
}
